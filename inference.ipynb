{
  "nbformat": 4,
  "nbformat_minor": 0,
  "metadata": {
    "colab": {
      "provenance": [],
      "gpuType": "T4",
      "collapsed_sections": [
        "RbiCcB9N39Lg"
      ]
    },
    "kernelspec": {
      "name": "python3",
      "display_name": "Python 3"
    },
    "language_info": {
      "name": "python"
    },
    "accelerator": "GPU"
  },
  "cells": [
    {
      "cell_type": "code",
      "execution_count": null,
      "metadata": {
        "id": "-tJz-sr4WHxR",
        "colab": {
          "base_uri": "https://localhost:8080/"
        },
        "outputId": "bc95aa04-523a-4072-a4e9-4a93d6024ffe"
      },
      "outputs": [
        {
          "output_type": "stream",
          "name": "stdout",
          "text": [
            "Drive already mounted at /content/drive; to attempt to forcibly remount, call drive.mount(\"/content/drive\", force_remount=True).\n"
          ]
        }
      ],
      "source": [
        "from google.colab import drive\n",
        "drive.mount('/content/drive')"
      ]
    },
    {
      "cell_type": "code",
      "source": [
        "# cd /content/drive/MyDrive/Colab Notebooks/cv_student"
      ],
      "metadata": {
        "id": "ySBUxamBM5Nq"
      },
      "execution_count": null,
      "outputs": []
    },
    {
      "cell_type": "code",
      "source": [
        "# !git clone https://github.com/pixelite1201/BEDLAM.git"
      ],
      "metadata": {
        "id": "5wTE_2lOMxCE",
        "colab": {
          "base_uri": "https://localhost:8080/"
        },
        "outputId": "ede65dcf-caec-4268-f630-fc74b70c16d7"
      },
      "execution_count": null,
      "outputs": [
        {
          "output_type": "stream",
          "name": "stdout",
          "text": [
            "Cloning into 'BEDLAM'...\n",
            "remote: Enumerating objects: 229, done.\u001b[K\n",
            "remote: Counting objects: 100% (54/54), done.\u001b[K\n",
            "remote: Compressing objects: 100% (24/24), done.\u001b[K\n",
            "remote: Total 229 (delta 40), reused 30 (delta 30), pack-reused 175\u001b[K\n",
            "Receiving objects: 100% (229/229), 11.47 MiB | 13.84 MiB/s, done.\n",
            "Resolving deltas: 100% (96/96), done.\n"
          ]
        }
      ]
    },
    {
      "cell_type": "code",
      "source": [
        "import cv2\n",
        "import os\n"
      ],
      "metadata": {
        "id": "5fHuU4gXWOeG"
      },
      "execution_count": null,
      "outputs": []
    },
    {
      "cell_type": "code",
      "source": [
        "!pip install ffmpeg-python"
      ],
      "metadata": {
        "id": "CzJKMVfqfx0B",
        "colab": {
          "base_uri": "https://localhost:8080/"
        },
        "outputId": "c1f5783a-ab13-45a5-8139-61d0b9387151"
      },
      "execution_count": null,
      "outputs": [
        {
          "output_type": "stream",
          "name": "stdout",
          "text": [
            "Collecting ffmpeg-python\n",
            "  Downloading ffmpeg_python-0.2.0-py3-none-any.whl (25 kB)\n",
            "Requirement already satisfied: future in /usr/local/lib/python3.10/dist-packages (from ffmpeg-python) (0.18.3)\n",
            "Installing collected packages: ffmpeg-python\n",
            "Successfully installed ffmpeg-python-0.2.0\n"
          ]
        }
      ]
    },
    {
      "cell_type": "code",
      "source": [
        "cd /content/drive/MyDrive/Colab Notebooks/cv_student/BEDLAM"
      ],
      "metadata": {
        "id": "tGljTy9pYjAd",
        "colab": {
          "base_uri": "https://localhost:8080/"
        },
        "outputId": "ca36cb02-d20d-4cbe-cee5-a926e14c0139"
      },
      "execution_count": null,
      "outputs": [
        {
          "output_type": "stream",
          "name": "stdout",
          "text": [
            "/content/drive/MyDrive/Colab Notebooks/cv_student/BEDLAM\n"
          ]
        }
      ]
    },
    {
      "cell_type": "code",
      "source": [
        "!pip install -r requirements.txt"
      ],
      "metadata": {
        "id": "QUrOaOy-Yl6m"
      },
      "execution_count": null,
      "outputs": []
    },
    {
      "cell_type": "code",
      "source": [
        "!pip install pytorch-lightning==1.8.3.post0"
      ],
      "metadata": {
        "id": "DVGE-qmGYmX1"
      },
      "execution_count": null,
      "outputs": []
    },
    {
      "cell_type": "markdown",
      "source": [
        "# yaml file 수정 code(건들지 마세요)"
      ],
      "metadata": {
        "id": "RbiCcB9N39Lg"
      }
    },
    {
      "cell_type": "code",
      "source": [
        "import yaml\n",
        "\n",
        "with open('configs/demo_bedlam_cliff.yaml') as f:\n",
        "    data = yaml.load(f, Loader=yaml.FullLoader)\n",
        "    display(data)"
      ],
      "metadata": {
        "colab": {
          "base_uri": "https://localhost:8080/",
          "height": 660
        },
        "id": "XN63Q2JojpNO",
        "outputId": "dbd9be18-5c09-466d-c6e9-b0732a93975f"
      },
      "execution_count": null,
      "outputs": [
        {
          "output_type": "display_data",
          "data": {
            "text/plain": [
              "{'DATASET': {'ALB': True,\n",
              "  'BATCH_SIZE': 64,\n",
              "  'CROP_FACTOR': 0.5,\n",
              "  'CROP_PERCENT': 0.8,\n",
              "  'CROP_PROB': 0.2,\n",
              "  'DATASETS_AND_RATIOS': 'static-hdri_agora-bfh_agora-body_zoom-suburbd_closeup-suburba_closeup-suburbb_closeup-suburbc_closeup-suburbd_closeup-gym_zoom-gym_static-gym_static-office_orbit-office_static-hdri-zoomed_pitchup-stadium_pitchdown-stadium_static-hdri-bmi_closeup-suburbb-bmi_closeup-suburbc-bmi_static-suburbd-bmi_zoom-gym-bmi_static-office-hair_zoom-suburbd-hair_static-gym-hair_orbit-archviz-15_orbit-archviz-19_orbit-archviz-12_orbit-archviz-10',\n",
              "  'IMG_RES': 224,\n",
              "  'MESH_COLOR': 'pinkish',\n",
              "  'NOISE_FACTOR': 0.4,\n",
              "  'NUM_WORKERS': 32,\n",
              "  'PIN_MEMORY': True,\n",
              "  'SCALE_FACTOR': 0.25,\n",
              "  'SHUFFLE_TRAIN': True,\n",
              "  'VAL_DS': '3dpw-test-cam_rich_h36m-p1'},\n",
              " 'EXP_NAME': 'bedlam_cam_ready',\n",
              " 'LOG_DIR': 'logs',\n",
              " 'MODEL': {'BACKBONE': 'hrnet_w48-conv',\n",
              "  'BETA_LOSS_WEIGHT': 0.001,\n",
              "  'JOINT_LOSS_WEIGHT': 5.0,\n",
              "  'KEYPOINT_LOSS_WEIGHT': 5.0,\n",
              "  'LOSS_WEIGHT': 60.0,\n",
              "  'POSE_LOSS_WEIGHT': 1.0,\n",
              "  'SHAPE_LOSS_WEIGHT': 1.0},\n",
              " 'OPTIMIZER': {'LR': 5e-05, 'TYPE': 'adam', 'WD': 0.0},\n",
              " 'TESTING': {'FP_VIS': True, 'MESH_VIS': True},\n",
              " 'TRAINING': {'CHECK_VAL_EVERY_N_EPOCH': 1,\n",
              "  'MAX_EPOCHS': 200000,\n",
              "  'PRETRAINED_CKPT': 'scratch',\n",
              "  'PRETRAINED_LIT': None,\n",
              "  'RELOAD_DATALOADERS_EVERY_EPOCH': False,\n",
              "  'RESUME': None,\n",
              "  'TEST_BEFORE_TRAINING': False,\n",
              "  'WP_VIS': True},\n",
              " 'TRIAL': {'bedlam_bbox': True, 'criterion': 'mse'}}"
            ]
          },
          "metadata": {}
        }
      ]
    },
    {
      "cell_type": "code",
      "source": [
        "data['TESTING']['MESH_VIS'] = True\n",
        "data['TESTING']['FP_VIS'] = True\n",
        "data['TRAINING']['WP_VIS'] = True\n",
        "\n",
        "with open('configs/demo_bedlam_cliff.yaml', 'w') as f:\n",
        "    yaml.dump(data, f, default_flow_style=False)"
      ],
      "metadata": {
        "id": "zNxwu1-BmEE-"
      },
      "execution_count": null,
      "outputs": []
    },
    {
      "cell_type": "markdown",
      "source": [
        "# input/output 추가 코드"
      ],
      "metadata": {
        "id": "DYiFQL7QYxt-"
      }
    },
    {
      "cell_type": "code",
      "source": [
        "# 1. .avi -> .mp4로 변환\n",
        "import ffmpeg\n",
        "\n",
        "def convert_avi_to_mp4(avi_file_path, output_file_path):\n",
        "    try:\n",
        "        ffmpeg.input(avi_file_path).output(output_file_path).run()\n",
        "    except ffmpeg.Error as e:\n",
        "        print('Error:', e.stderr.decode())  # 에러 메시지를 출력합니다.\n",
        "        raise\n",
        "\n",
        "file_path = '/content/drive/MyDrive/Colab Notebooks/cv_student/THETIS/'\n",
        "\n",
        "avi_file = file_path + 'p1_foreopen_s1.avi'  # '.avi' 파일로 변경해주세요\n",
        "mp4_file = file_path + 'example7.mp4'\n",
        "\n",
        "convert_avi_to_mp4(avi_file, mp4_file)"
      ],
      "metadata": {
        "id": "hhHwc_y4hkYd"
      },
      "execution_count": null,
      "outputs": []
    },
    {
      "cell_type": "code",
      "source": [
        "# 2. video -> seq img\n",
        "\n",
        "# 동영상 파일의 경로\n",
        "file_path = '/content/drive/MyDrive/Colab Notebooks/cv_student/THETIS/'\n",
        "video_path = file_path + 'reference.mp4'\n",
        "\n",
        "# 동영상 파일 열기\n",
        "video = cv2.VideoCapture(video_path)\n",
        "\n",
        "# 동영상의 프레임 수\n",
        "frame_count = int(video.get(cv2.CAP_PROP_FRAME_COUNT))\n",
        "\n",
        "# 프레임을 이미지로 변환하고 파일로 저장\n",
        "for i in range(frame_count):\n",
        "    ret, frame = video.read()\n",
        "    if ret:\n",
        "      image_path = f\"/content/drive/MyDrive/Colab Notebooks/cv_student/THETIS_frame/reference/image_{i}.jpg\"\n",
        "      cv2.imwrite(image_path, frame)\n",
        "\n",
        "# 동영상 파일 닫기\n",
        "video.release()"
      ],
      "metadata": {
        "id": "KVGJ_Kv9HFy8"
      },
      "execution_count": null,
      "outputs": []
    },
    {
      "cell_type": "code",
      "source": [
        "import cv2\n",
        "\n",
        "video_path = \"/content/drive/MyDrive/Colab Notebooks/cv_student/THETIS/reference.mp4\"\n",
        "\n",
        "# 동영상 파일 열기\n",
        "video = cv2.VideoCapture(video_path)\n",
        "\n",
        "# 초당 프레임 수 (FPS) 가져오기\n",
        "fps = video.get(cv2.CAP_PROP_FPS)\n",
        "\n",
        "# 출력\n",
        "print(\"초당 프레임 수 (FPS):\", fps)\n",
        "\n",
        "# 동영상 파일 닫기\n",
        "video.release()\n"
      ],
      "metadata": {
        "id": "_qyZySQSHLBq",
        "colab": {
          "base_uri": "https://localhost:8080/"
        },
        "outputId": "a8681013-51bb-439b-b2e8-5b8b59608894"
      },
      "execution_count": null,
      "outputs": [
        {
          "output_type": "stream",
          "name": "stdout",
          "text": [
            "초당 프레임 수 (FPS): 19.135135135135137\n"
          ]
        }
      ]
    },
    {
      "cell_type": "code",
      "source": [
        "# 3. BEDLAM inference demo.py\n",
        "!python demo.py --cfg configs/demo_bedlam_cliff.yaml --image_folder /content/drive/MyDrive/Colab\\ Notebooks/cv_student/THETIS_frame/reference --output_folder /content/drive/MyDrive/Colab\\ Notebooks/cv_student/THETIS_smpl/reference"
      ],
      "metadata": {
        "id": "3a_9jKlWXvrL"
      },
      "execution_count": null,
      "outputs": []
    },
    {
      "cell_type": "code",
      "source": [
        "import torch\n",
        "arr = [[[[7.9367675e-02, -7.1560276e-01,  3.9454701e+00],[8.3565049e-02, -7.1437633e-01,  3.9455841e+00], [8.4411368e-02, -7.1572435e-01,  3.9455023e+00]]]]\n",
        "\n",
        "arr = torch.tensor(arr)\n",
        "arr.squeeze(0)"
      ],
      "metadata": {
        "colab": {
          "base_uri": "https://localhost:8080/"
        },
        "id": "CMjOn4PX2gx_",
        "outputId": "ce52aaa2-7a8e-4571-a20f-18a986675015"
      },
      "execution_count": null,
      "outputs": [
        {
          "output_type": "execute_result",
          "data": {
            "text/plain": [
              "tensor([[[ 0.0794, -0.7156,  3.9455],\n",
              "         [ 0.0836, -0.7144,  3.9456],\n",
              "         [ 0.0844, -0.7157,  3.9455]]])"
            ]
          },
          "metadata": {},
          "execution_count": 31
        }
      ]
    },
    {
      "cell_type": "code",
      "source": [
        "# 4. BEDLAM inference demox.py\n",
        "!python demox.py --cfg configs/demo_bedlam_cliff_x.yaml --image_folder /content/drive/MyDrive/Colab\\ Notebooks/cv_student/THETIS_frame/example7 --output_folder /content/drive/MyDrive/Colab\\ Notebooks/cv_student/THETIS_smpl/example7 --display --detector yolo"
      ],
      "metadata": {
        "id": "ZxQSFQJ6qHN7"
      },
      "execution_count": null,
      "outputs": []
    },
    {
      "cell_type": "code",
      "source": [
        "# 4. SMPL Img -> Video\n",
        "image_folder = '/content/drive/MyDrive/Colab Notebooks/cv_student/THETIS_smpl/example7'\n",
        "video_name = '/content/drive/MyDrive/Colab Notebooks/cv_student/THETIS_inference/example7.mp4'\n",
        "\n",
        "images = [img for img in os.listdir(image_folder) if img.endswith(\"pred_bedlam.jpg\")]\n",
        "frame = cv2.imread(os.path.join(image_folder, images[0]))\n",
        "height, width, layers = frame.shape\n",
        "\n",
        "# frame_count > 초당 프레임 수이므로 전체 frame 변수를 넣는 것은 잘못된 것\n",
        "# 초당 프레임 변수인 fps로 변경 -> 변경 후 진행 결과 동영상 길이는 보전되었으나 중간중간 살짝씩 끊기는 현상 발생\n",
        "# images 정렬 문제로 추측\n",
        "fps = 18\n",
        "video = cv2.VideoWriter(video_name, cv2.VideoWriter_fourcc(*'DIVX'), fps, (width,height))\n",
        "\n",
        "for image in images:\n",
        "    img = cv2.imread(os.path.join(image_folder, image))\n",
        "    video.write(img)\n",
        "\n",
        "cv2.destroyAllWindows()\n",
        "video.release()"
      ],
      "metadata": {
        "id": "imDOFQnDWiBt"
      },
      "execution_count": null,
      "outputs": []
    },
    {
      "cell_type": "code",
      "source": [
        "import re\n",
        "\n",
        "def extract_numbers_from_string(s):\n",
        "    numbers = re.findall(r'\\d+', s)\n",
        "\n",
        "    # 추출된 숫자를 정수로 변환하여 반환\n",
        "    return int(numbers[0])\n",
        "\n",
        "img_dict = {}\n",
        "for idx, img in enumerate(images):\n",
        "  # 'image_0.jpgpred_bedlam.jpg'의 0을 key로, 'image_0.jpgpred_bedlam.jpg'를 value로 dict 생성\n",
        "  num = extract_numbers_from_string(img) # 숫자 추출\n",
        "  img_dict[num] = img\n",
        "\n",
        "img_dict"
      ],
      "metadata": {
        "id": "Z8kFIPMgF66s"
      },
      "execution_count": null,
      "outputs": []
    },
    {
      "cell_type": "code",
      "source": [
        "dic = sorted(img_dict.items())\n",
        "dic"
      ],
      "metadata": {
        "id": "k12dU9BLLa3m"
      },
      "execution_count": null,
      "outputs": []
    },
    {
      "cell_type": "code",
      "source": [
        "# 정렬된 jpg 순서대로 리스트에 append\n",
        "new_images = []\n",
        "for k in dic:\n",
        "  new_images.append(k[1])"
      ],
      "metadata": {
        "id": "Sa3-R16cME7s"
      },
      "execution_count": null,
      "outputs": []
    },
    {
      "cell_type": "code",
      "source": [
        "# 4. SMPL Img -> Video\n",
        "image_folder = '/content/drive/MyDrive/Colab Notebooks/cv_student/THETIS_smpl/example7'\n",
        "video_name = '/content/drive/MyDrive/Colab Notebooks/cv_student/THETIS_inference/example7.mp4'\n",
        "\n",
        "images = [img for img in os.listdir(image_folder) if img.endswith(\"pred_bedlam.jpg\")]\n",
        "frame = cv2.imread(os.path.join(image_folder, images[0]))\n",
        "height, width, layers = frame.shape\n",
        "\n",
        "# frame_count > 초당 프레임 수이므로 전체 frame 변수를 넣는 것은 잘못된 것\n",
        "# 초당 프레임 변수인 fps로 변경 -> 변경 후 진행 결과 동영상 길이는 보전되었으나 중간중간 살짝씩 끊기는 현상 발생\n",
        "# images 정렬 문제로 추측 -> 정렬하여 new_images 리스트에 저장\n",
        "fps = 18\n",
        "video = cv2.VideoWriter(video_name, cv2.VideoWriter_fourcc(*'DIVX'), fps, (width,height))\n",
        "\n",
        "# 정렬된 new_images 사용\n",
        "for image in new_images:\n",
        "    img = cv2.imread(os.path.join(image_folder, image))\n",
        "    video.write(img)\n",
        "\n",
        "cv2.destroyAllWindows()\n",
        "video.release()"
      ],
      "metadata": {
        "id": "Xvmm16nwMigW"
      },
      "execution_count": null,
      "outputs": []
    },
    {
      "cell_type": "code",
      "source": [
        "def DeleteAllFiles(filePath) :\n",
        "  if os.path.exists(filePath) :\n",
        "    for file in os.scandir(filePath) :\n",
        "      os.remove(file.path)\n",
        "    else :\n",
        "      return 'Directory Not Found'\n",
        "\n",
        "DeleteAllFiles('/content/drive/MyDrive/GolfDB_smpl/tmp')\n",
        "DeleteAllFiles('/content/drive/MyDrive/GolfDB_frame/tmp')"
      ],
      "metadata": {
        "id": "tG0iUKoDY6Li"
      },
      "execution_count": null,
      "outputs": []
    }
  ]
}